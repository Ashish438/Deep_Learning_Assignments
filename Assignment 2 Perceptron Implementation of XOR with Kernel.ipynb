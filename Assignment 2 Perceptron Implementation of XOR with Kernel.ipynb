{
 "cells": [
  {
   "cell_type": "code",
   "execution_count": 3,
   "metadata": {},
   "outputs": [
    {
     "name": "stdout",
     "output_type": "stream",
     "text": [
      "XOR(0, 0) = 0\n",
      "XOR(0, 1) = 1\n",
      "XOR(1, 0) = 1\n",
      "XOR(1, 1) = 0\n"
     ]
    }
   ],
   "source": [
    "import numpy as np\n",
    "\n",
    "# Define unit step function\n",
    "def UnitStep(v):\n",
    "    if v >= 0:\n",
    "        return 1\n",
    "    else:\n",
    "        return 0\n",
    "\n",
    "# Design Perceptron Model using Kernel Trick\n",
    "def perceptronModel(x,w,b):\n",
    "    v = np.transpose(x)\n",
    "    m = np.dot(v,w) + b\n",
    "    y = UnitStep(m)\n",
    "    return y\n",
    "\n",
    "# NOT Logic Function \n",
    "# wNOT = -1, bNOT = 0.5 \n",
    "def NOT_logicFunction(x): \n",
    "    wNOT = -1\n",
    "    bNOT = 0.5\n",
    "    return perceptronModel(x, wNOT, bNOT) \n",
    "  \n",
    "# AND Logic Function \n",
    "# here w1 = wAND1 = 1,  \n",
    "# w2 = wAND2 = 1, bAND = -1.5 \n",
    "def AND_logicFunction(x): \n",
    "    w = np.array([1, 1]) \n",
    "    bAND = -1.5\n",
    "    return perceptronModel(x, w, bAND) \n",
    "  \n",
    "# OR Logic Function \n",
    "# w1 = 1, w2 = 1, bOR = -0.5 \n",
    "def OR_logicFunction(x): \n",
    "    w = np.array([1, 1]) \n",
    "    bOR = -0.5\n",
    "    return perceptronModel(x, w, bOR) \n",
    "  \n",
    "# XOR Logic Function \n",
    "# with AND, OR and NOT   \n",
    "# function calls in sequence \n",
    "def XOR_logicFunction(x): \n",
    "    y1 = AND_logicFunction(x) \n",
    "    y2 = OR_logicFunction(x) \n",
    "    y3 = NOT_logicFunction(y1) \n",
    "    final_x = np.array([y2, y3]) \n",
    "    finalOutput = AND_logicFunction(final_x) \n",
    "    return finalOutput \n",
    "\n",
    "# testing the Perceptron Model \n",
    "test1 = np.array([0, 0]) \n",
    "test2 = np.array([0, 1]) \n",
    "test3 = np.array([1, 0]) \n",
    "test4 = np.array([1, 1]) \n",
    "  \n",
    "print(\"XOR({}, {}) = {}\".format(0, 0, XOR_logicFunction(test1))) \n",
    "print(\"XOR({}, {}) = {}\".format(0, 1, XOR_logicFunction(test2))) \n",
    "print(\"XOR({}, {}) = {}\".format(1, 0, XOR_logicFunction(test3))) \n",
    "print(\"XOR({}, {}) = {}\".format(1, 1, XOR_logicFunction(test4)))\n",
    "\n",
    "\n"
   ]
  }
 ],
 "metadata": {
  "kernelspec": {
   "display_name": "Python 3",
   "language": "python",
   "name": "python3"
  },
  "language_info": {
   "codemirror_mode": {
    "name": "ipython",
    "version": 3
   },
   "file_extension": ".py",
   "mimetype": "text/x-python",
   "name": "python",
   "nbconvert_exporter": "python",
   "pygments_lexer": "ipython3",
   "version": "3.6.4"
  }
 },
 "nbformat": 4,
 "nbformat_minor": 2
}
